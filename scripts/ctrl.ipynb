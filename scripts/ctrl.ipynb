{
 "cells": [
  {
   "cell_type": "code",
   "execution_count": 1,
   "metadata": {},
   "outputs": [],
   "source": [
    "from pybullet_suite import *"
   ]
  },
  {
   "cell_type": "code",
   "execution_count": 2,
   "metadata": {},
   "outputs": [],
   "source": [
    "world = BulletWorld(gui=True)\n",
    "\n",
    "sm = BulletSceneMaker(world)\n",
    "coord = sm.view_frame(Pose.identity(), \"world\", 0.5)\n",
    "world.set_gravity([0,0,-9.8])"
   ]
  },
  {
   "cell_type": "code",
   "execution_count": 3,
   "metadata": {},
   "outputs": [],
   "source": [
    "## object setting\n",
    "ground = sm.create_plane()\n",
    "\n",
    "#dual-arm\n",
    "gap = 0.5\n",
    "robot1 = world.load_robot(Panda, \"robot1\", Pose(trans=[0,gap/2,0]))\n",
    "robot2 = world.load_robot(Panda, \"robot2\", Pose(trans=[0,-gap/2,0]))\n",
    "\n",
    "#box\n",
    "size = np.array([0.2, 0.4, 0.2])\n",
    "mass = 0.1\n",
    "position = np.array([0.4, 0., 0.]) + np.array([0., 0., 0.1])\n",
    "box = sm.create_box(\n",
    "    \"box\", \n",
    "    half_extents=size/2, \n",
    "    mass=mass, \n",
    "    position=position, \n",
    "    rgba_color=[1, 0, 0, 0.8])"
   ]
  },
  {
   "cell_type": "code",
   "execution_count": 4,
   "metadata": {},
   "outputs": [],
   "source": [
    "def control_law_1():\n",
    "    return np.zeros(7)\n",
    "def control_law_2():\n",
    "    return np.zeros(7)\n",
    "    \n",
    "robot1.set_ctrl_mode(\"torque\")\n",
    "robot2.set_ctrl_mode(\"torque\")"
   ]
  },
  {
   "cell_type": "code",
   "execution_count": 5,
   "metadata": {},
   "outputs": [],
   "source": [
    "while True:\n",
    "    q = robot1.get_joint_angles()\n",
    "    qdot = robot1.get_joint_velocities()\n",
    "    u = control_law_1() #for now, zeros.\n",
    "    robot1.set_joint_torques(u)\n",
    "    robot2.set_joint_torques(u)\n",
    "    # simulate\n",
    "    world.step()"
   ]
  }
 ],
 "metadata": {
  "kernelspec": {
   "display_name": "Python 3.10.8 ('dual_arm_ctrl')",
   "language": "python",
   "name": "python3"
  },
  "language_info": {
   "codemirror_mode": {
    "name": "ipython",
    "version": 3
   },
   "file_extension": ".py",
   "mimetype": "text/x-python",
   "name": "python",
   "nbconvert_exporter": "python",
   "pygments_lexer": "ipython3",
   "version": "3.10.8"
  },
  "orig_nbformat": 4,
  "vscode": {
   "interpreter": {
    "hash": "0f61e3ff754751d2fe3d4295db6d6871e974a511e5d642991014ca314baf0491"
   }
  }
 },
 "nbformat": 4,
 "nbformat_minor": 2
}
