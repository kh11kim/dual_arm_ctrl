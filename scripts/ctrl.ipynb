{
 "cells": [
  {
   "cell_type": "code",
   "execution_count": 1,
   "metadata": {},
   "outputs": [],
   "source": [
    "from pybullet_suite import *"
   ]
  },
  {
   "cell_type": "code",
   "execution_count": 2,
   "metadata": {},
   "outputs": [],
   "source": [
    "world = BulletWorld(gui=True)\n",
    "\n",
    "sm = BulletSceneMaker(world)\n",
    "coord = sm.view_frame(Pose.identity(), \"world\", 0.5)\n",
    "world.set_gravity([0,0,-9.8])"
   ]
  },
  {
   "cell_type": "code",
   "execution_count": 3,
   "metadata": {},
   "outputs": [],
   "source": [
    "## object setting\n",
    "ground = sm.create_plane()\n",
    "\n",
    "#dual-arm\n",
    "gap = 0.5\n",
    "robot1 = world.load_robot(Panda, \"robot1\", Pose(trans=[0,gap/2,0]))\n",
    "robot2 = world.load_robot(Panda, \"robot2\", Pose(trans=[0,-gap/2,0]))\n",
    "\n",
    "#box\n",
    "size = np.array([0.2, 0.4, 0.2])\n",
    "mass = 0.1\n",
    "position = np.array([0.4, 0., 0.]) + np.array([0., 0., 0.1])\n",
    "box = sm.create_box(\n",
    "    \"box\", \n",
    "    half_extents=size/2, \n",
    "    mass=mass, \n",
    "    position=position, \n",
    "    rgba_color=[1, 0, 0, 0.8])"
   ]
  },
  {
   "cell_type": "code",
   "execution_count": 4,
   "metadata": {},
   "outputs": [],
   "source": [
    "def control_law_1():\n",
    "    return np.zeros(7)\n",
    "def control_law_2():\n",
    "    return np.zeros(7)\n",
    "    \n",
    "robot1.set_ctrl_mode(\"torque\")\n",
    "robot2.set_ctrl_mode(\"torque\")"
   ]
  },
  {
   "cell_type": "code",
   "execution_count": 5,
   "metadata": {},
   "outputs": [
    {
     "ename": "KeyboardInterrupt",
     "evalue": "",
     "output_type": "error",
     "traceback": [
      "\u001b[1;31m---------------------------------------------------------------------------\u001b[0m",
      "\u001b[1;31mKeyboardInterrupt\u001b[0m                         Traceback (most recent call last)",
      "Cell \u001b[1;32mIn [5], line 7\u001b[0m\n\u001b[0;32m      5\u001b[0m robot1\u001b[39m.\u001b[39mset_joint_torques(u)\n\u001b[0;32m      6\u001b[0m \u001b[39m# simulate\u001b[39;00m\n\u001b[1;32m----> 7\u001b[0m world\u001b[39m.\u001b[39;49mstep()\n",
      "File \u001b[1;32mc:\\users\\apple\\ws\\dual_arm_ctrl\\pybullet_suite\\pybullet_suite\\base\\world.py:127\u001b[0m, in \u001b[0;36mBulletWorld.step\u001b[1;34m(self, only_collision_detection)\u001b[0m\n\u001b[0;32m    125\u001b[0m     \u001b[39mself\u001b[39m\u001b[39m.\u001b[39mphysics_client\u001b[39m.\u001b[39mstepSimulation()\n\u001b[0;32m    126\u001b[0m \u001b[39mif\u001b[39;00m \u001b[39mself\u001b[39m\u001b[39m.\u001b[39mgui: \u001b[39m#and (self.sim_time - self.last_render_time) > self.dt_gui:\u001b[39;00m\n\u001b[1;32m--> 127\u001b[0m     time\u001b[39m.\u001b[39;49msleep(\u001b[39mself\u001b[39;49m\u001b[39m.\u001b[39;49mdt)\n\u001b[0;32m    128\u001b[0m     \u001b[39m#self.last_render_time += self.dt_gui\u001b[39;00m\n\u001b[0;32m    129\u001b[0m \u001b[39mself\u001b[39m\u001b[39m.\u001b[39msim_time \u001b[39m+\u001b[39m\u001b[39m=\u001b[39m \u001b[39mself\u001b[39m\u001b[39m.\u001b[39mdt\n",
      "\u001b[1;31mKeyboardInterrupt\u001b[0m: "
     ]
    }
   ],
   "source": [
    "while True:\n",
    "    q = robot1.get_joint_angles()\n",
    "    qdot = robot1.get_joint_velocities()\n",
    "    u = control_law_1() #for now, zeros.\n",
    "    robot1.set_joint_torques(u)\n",
    "    robot2.set_joint_torques(u)\n",
    "    # simulate\n",
    "    world.step()"
   ]
  }
 ],
 "metadata": {
  "kernelspec": {
   "display_name": "Python 3.10.8 ('dual_arm_ctrl')",
   "language": "python",
   "name": "python3"
  },
  "language_info": {
   "codemirror_mode": {
    "name": "ipython",
    "version": 3
   },
   "file_extension": ".py",
   "mimetype": "text/x-python",
   "name": "python",
   "nbconvert_exporter": "python",
   "pygments_lexer": "ipython3",
   "version": "3.10.8"
  },
  "orig_nbformat": 4,
  "vscode": {
   "interpreter": {
    "hash": "0f61e3ff754751d2fe3d4295db6d6871e974a511e5d642991014ca314baf0491"
   }
  }
 },
 "nbformat": 4,
 "nbformat_minor": 2
}
